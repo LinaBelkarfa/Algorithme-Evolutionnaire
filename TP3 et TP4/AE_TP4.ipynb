{
 "cells": [
  {
   "cell_type": "raw",
   "id": "b0e39110",
   "metadata": {},
   "source": [
    "#----------- REGRESSION SYMBOLIQUE --------------#"
   ]
  },
  {
   "cell_type": "code",
   "execution_count": 6,
   "id": "9ec67f22",
   "metadata": {},
   "outputs": [],
   "source": [
    "import random\n",
    "from deap import base\n",
    "from deap import creator\n",
    "from deap import tools\n",
    "from deap import gp\n",
    "import array\n",
    "import numpy\n",
    "import operator\n",
    "from deap import gp\n",
    "import json"
   ]
  },
  {
   "cell_type": "raw",
   "id": "58572cc3",
   "metadata": {},
   "source": [
    "#----------- GENETIC PROGRAMMING --------------#"
   ]
  },
  {
   "cell_type": "markdown",
   "id": "9ab9927b",
   "metadata": {},
   "source": [
    "# #-----------  GP faiblement typé ----------- # #"
   ]
  },
  {
   "cell_type": "code",
   "execution_count": 9,
   "id": "aa19381b",
   "metadata": {},
   "outputs": [],
   "source": [
    "pset = gp.PrimitiveSet(\"main\", 2) # crée un ensemble de primitive\n",
    "#ses arguments sont le nom de la procédure qu'elle va générer \"main\"\n",
    "#et son nombre d'entrée 2\n",
    "\n",
    "#ajoute des fonctions comme primitives \n",
    "# le premier argument est la fonction à affihcer \"max\"\n",
    "# le second est le nombre d'input/argument\n",
    "pset.addPrimitive(max, 2) \n",
    "pset.addPrimitive(operator.add, 2)  \n",
    "pset.addPrimitive(operator.mul, 2)\n",
    "\n",
    "#ajoute une constante terminale\n",
    "pset.addTerminal(3)"
   ]
  },
  {
   "cell_type": "raw",
   "id": "7a70c9f3",
   "metadata": {},
   "source": [
    "#Actuellement, les noms par défaut des arguments sont \"ARG0\" et \"ARG1\". \n",
    "#Pour les changer en \"x\" et \"y\", il suffit d'appeler"
   ]
  },
  {
   "cell_type": "code",
   "execution_count": 10,
   "id": "ab5bc885",
   "metadata": {},
   "outputs": [],
   "source": [
    "pset.renameArguments(ARG0=\"x\")\n",
    "pset.renameArguments(ARG1=\"y\")\n",
    "#Dans ce cas, toutes les fonctions prennent deux arguments. "
   ]
  },
  {
   "cell_type": "code",
   "execution_count": 13,
   "id": "9004138b",
   "metadata": {},
   "outputs": [],
   "source": [
    "#Une fonction de négation à 1 argument, par exemple, \n",
    "#pourrait être réalisée avec :\n",
    "#pset.addPrimitive(operator.neg, 1)"
   ]
  },
  {
   "cell_type": "raw",
   "id": "e6df722c",
   "metadata": {},
   "source": [
    "# Notre ensemble de primitives est maintenant prêt à générer quelques arbres.\n",
    "# Le module gp contient trois fonctions de génération d'expressions préfixes :\n",
    "# genFull(), genGrow(), et genHalfAndHalf(). \n",
    "\n",
    "# Leur premier argument est un ensemble primitif. \n",
    "# Elles retournent une expression préfixe valide sous la forme d'une liste de primitives. \n",
    "# Le contenu de cette liste peut être lu par la classe PrimitiveTree pour créer un arbre de préfixes."
   ]
  },
  {
   "cell_type": "code",
   "execution_count": 15,
   "id": "9e36dc5f",
   "metadata": {},
   "outputs": [],
   "source": [
    "expr = gp.genFull(pset, min_=1, max_=3) \n",
    "tree = gp.PrimitiveTree(expr)"
   ]
  },
  {
   "cell_type": "raw",
   "id": "e9cc1da8",
   "metadata": {},
   "source": [
    "#Ce dernier code produit un arbre complet valide avec une hauteur choisie\n",
    "#aléatoirement entre 1 et 3."
   ]
  },
  {
   "cell_type": "markdown",
   "id": "9e864609",
   "metadata": {},
   "source": [
    "# #-----------  GP Fortement typé ----------- # #\n"
   ]
  },
  {
   "cell_type": "raw",
   "id": "0b1d5fa1",
   "metadata": {},
   "source": [
    "# Dans un GP fortement typé, un type spécifique est attribué à chaque primitive et terminal. \n",
    "# Le type de sortie d'une primitive doit correspondre au type d'entrée d'une autre primitive \n",
    "# pour qu'elles soient connectées. Par exemple, si une primitive renvoie un booléen, il est \n",
    "# garanti que cette valeur ne sera pas multipliée par un flottant si l'opérateur de \n",
    "# multiplication n'opère que sur les flottants."
   ]
  },
  {
   "cell_type": "code",
   "execution_count": 17,
   "id": "4da13316",
   "metadata": {},
   "outputs": [],
   "source": [
    "def if_then_else(input, output1, output2):\n",
    "    # nous définissons d'abord une fonction if then else qui renvoie \n",
    "    # le deuxième argument si le premier est vrai \n",
    "    # et le troisième sinon.\n",
    "    return output1 if input else output2\n",
    "\n",
    "\n",
    "# Ensuite, nous définissons notre PrimitiveSetTyped. \n",
    "# Encore une fois, la procédure est nommée \"main\".\n",
    "# Le deuxième argument définit les types d'entrée du programme. \n",
    "# Ici, \"x\" est un bool et \"y\" est un float. \n",
    "# Le troisième argument définit le type de sortie du programme comme étant un float. \n",
    "pset = gp.PrimitiveSetTyped(\"main\", [bool, float], float)\n",
    "\n",
    "# Pour ajouter des primitives à cette primitive, il faut maintenant définir les types d'entrée et \n",
    "# de sortie des primitives et du terminal. \n",
    "pset.addPrimitive(operator.xor, [bool, bool], bool)\n",
    "pset.addPrimitive(operator.mul, [float, float], float)\n",
    "\n",
    "# Par exemple, nous définissons le premier argument de notre fonction \"if_then_else\" \n",
    "# comme un booléen, les deuxième et troisième arguments doivent être des flottants. \n",
    "pset.addPrimitive(if_then_else, [bool, float, float], float)\n",
    "pset.addTerminal(3.0, float)\n",
    "pset.addTerminal(1, bool)\n",
    "pset.renameArguments(ARG0=\"x\")\n",
    "pset.renameArguments(ARG1=\"y\")\n",
    "\n",
    "# La fonction est définie comme renvoyant un flottant. \n",
    "# Nous comprenons maintenant que la primitive de multiplication ne peut avoir comme entrée que le\n",
    "# terminal 3.0, la fonction if_then_else ou le \"y\", qui sont les seuls flottants définis.\n"
   ]
  },
  {
   "cell_type": "markdown",
   "id": "b4453e97",
   "metadata": {},
   "source": [
    "# #-----------  Constante éphémère ----------- # #"
   ]
  },
  {
   "cell_type": "raw",
   "id": "e1dac396",
   "metadata": {},
   "source": [
    "# Une constante éphémère est une borne encapsulant une valeur qui est générée \n",
    "# par une fonction donnée au moment de l'exécution. \n",
    "# Les constantes éphémères permettent d'avoir des bornes qui n'ont pas toutes la même valeur. \n",
    "# Par exemple, pour créer une constante éphémère qui prend sa valeur dans l'intervalle [-1,1], \n",
    "# on utilise"
   ]
  },
  {
   "cell_type": "code",
   "execution_count": 23,
   "id": "106cfa66",
   "metadata": {},
   "outputs": [],
   "source": [
    "pset.addEphemeralConstant(\"EphémèreTest\",lambda: random.randint(-10, 10), int)"
   ]
  },
  {
   "cell_type": "raw",
   "id": "02c39852",
   "metadata": {},
   "source": [
    "# La valeur de la constante éphémère est déterminée lors de son insertion dans l'arbre et ne change \n",
    "# jamais, sauf si elle est remplacée par une autre constante éphémère. \n",
    "# Comme il s'agit d'un terminal, la constante éphémère peut également être typée."
   ]
  },
  {
   "cell_type": "markdown",
   "id": "2905ac5a",
   "metadata": {},
   "source": [
    "# #-----------  Generation of Tree Individuals ----------- # #"
   ]
  },
  {
   "cell_type": "raw",
   "id": "e4744436",
   "metadata": {},
   "source": [
    "# Le code présenté dans les deux dernières sections produit des arbres valides. \n",
    "# Cependant, comme dans le tutoriel Opérateurs et Algorithmes, ces arbres ne sont pas encore des\n",
    "# individus valides pour l'évolution. \n",
    "# Il faut combiner le créateur et la boîte à outils pour produire des individus valides. \n",
    "# Nous devons créer les classes Fitness et Individual. \n",
    "# Nous ajoutons une référence à l'ensemble de primitives à l'individu en plus du fitness. \n",
    "# Ceci est utilisé par certains des opérateurs gp pour modifier les individus."
   ]
  },
  {
   "cell_type": "code",
   "execution_count": 24,
   "id": "dbc8c423",
   "metadata": {},
   "outputs": [],
   "source": [
    "creator.create(\"FitnessMin\", base.Fitness, weights=(-1.0,))\n",
    "creator.create(\"Individual\", gp.PrimitiveTree, fitness=creator.FitnessMin,\n",
    "               pset=pset)"
   ]
  },
  {
   "cell_type": "code",
   "execution_count": 26,
   "id": "340adbc7",
   "metadata": {},
   "outputs": [],
   "source": [
    "# Nous enregistrons ensuite les fonctions de génération dans une Toolbox.\n",
    "toolbox = base.Toolbox()\n",
    "toolbox.register(\"expr\", gp.genFull, pset=pset, min_=1, max_=3)\n",
    "toolbox.register(\"individual\", tools.initIterate, creator.Individual,\n",
    "                 toolbox.expr)\n",
    "# L'appel de toolbox.individual() retourne facilement un individu de type PrimitiveTree."
   ]
  },
  {
   "cell_type": "markdown",
   "id": "6e9541b3",
   "metadata": {},
   "source": [
    "# #-----------  Evaluation of Trees ----------- # #"
   ]
  },
  {
   "cell_type": "raw",
   "id": "647e42ff",
   "metadata": {},
   "source": [
    "# Dans DEAP, les arbres peuvent être traduits en code Python lisible et compilés en objets de code \n",
    "# Python en utilisant des fonctions fournies par le module gp. \n",
    "# La première fonction, str() prend une expression ou un PrimitiveTree et le traduit en code \n",
    "# Python lisible. "
   ]
  },
  {
   "cell_type": "code",
   "execution_count": 33,
   "id": "77d42147",
   "metadata": {},
   "outputs": [
    {
     "data": {
      "text/plain": [
       "'mul(mul(3.0, y), mul(y, y))'"
      ]
     },
     "execution_count": 33,
     "metadata": {},
     "output_type": "execute_result"
    }
   ],
   "source": [
    "# Par exemple, les lignes suivantes génèrent un arbre et produisent le code du \n",
    "# premier exemple d'ensemble de primitives.\n",
    "expr = gp.genFull(pset, min_=1, max_=3)\n",
    "tree = gp.PrimitiveTree(expr)\n",
    "str(tree)"
   ]
  },
  {
   "cell_type": "raw",
   "id": "edaa339a",
   "metadata": {},
   "source": [
    "# Maintenant, cette chaîne représente le programme que nous venons de générer, \n",
    "# mais elle ne peut pas encore être exécutée. \n",
    "# Pour le rendre exécutable, nous devons compiler l'expression dans un objet de code Python. \n",
    "# Comme cette fonction a deux entrées, nous souhaitons compiler le code dans un objet appelable. \n",
    "# Ceci est possible avec la fonction compile(). \n",
    "\n",
    "# L'exemple suivant compile l'arbre précédent et évalue la fonction résultante pour x=1 et y=2"
   ]
  },
  {
   "cell_type": "code",
   "execution_count": null,
   "id": "987ec9f6",
   "metadata": {},
   "outputs": [],
   "source": [
    "# rappel attribut mode de compile :\n",
    "#      mode : Soit exec ou eval ou simple.\n",
    "#             eval - n'accepte qu'une seule expression.\n",
    "#             exec - Il peut prendre un bloc de code qui contient des instructions, des classes et des fonctions Python, etc.\n",
    "#             single - s'il consiste en une seule instruction interactiv"
   ]
  },
  {
   "cell_type": "code",
   "execution_count": 41,
   "id": "86372bac",
   "metadata": {},
   "outputs": [
    {
     "ename": "TypeError",
     "evalue": "compile() missing required argument 'mode' (pos 3)",
     "output_type": "error",
     "traceback": [
      "\u001b[1;31m---------------------------------------------------------------------------\u001b[0m",
      "\u001b[1;31mTypeError\u001b[0m                                 Traceback (most recent call last)",
      "\u001b[1;32mC:\\Users\\Public\\Documents\\Wondershare\\CreatorTemp/ipykernel_10884/97978619.py\u001b[0m in \u001b[0;36m<module>\u001b[1;34m\u001b[0m\n\u001b[1;32m----> 1\u001b[1;33m \u001b[0mfunction\u001b[0m \u001b[1;33m=\u001b[0m \u001b[0mcompile\u001b[0m\u001b[1;33m(\u001b[0m\u001b[0mtree\u001b[0m\u001b[1;33m,\u001b[0m \u001b[0mpset\u001b[0m\u001b[1;33m)\u001b[0m   \u001b[1;31m#La fonction prend troie arguments :\u001b[0m\u001b[1;33m\u001b[0m\u001b[1;33m\u001b[0m\u001b[0m\n\u001b[0m\u001b[0;32m      2\u001b[0m                                    \u001b[1;31m# l'expression à compiler\u001b[0m\u001b[1;33m\u001b[0m\u001b[1;33m\u001b[0m\u001b[1;33m\u001b[0m\u001b[0m\n\u001b[0;32m      3\u001b[0m                                    \u001b[1;31m# l'ensemble de primitives associé.\u001b[0m\u001b[1;33m\u001b[0m\u001b[1;33m\u001b[0m\u001b[1;33m\u001b[0m\u001b[0m\n\u001b[0;32m      4\u001b[0m                                    \u001b[1;31m# le mode choisi\u001b[0m\u001b[1;33m\u001b[0m\u001b[1;33m\u001b[0m\u001b[1;33m\u001b[0m\u001b[0m\n\u001b[0;32m      5\u001b[0m \u001b[0mfunction\u001b[0m\u001b[1;33m(\u001b[0m\u001b[1;36m1\u001b[0m\u001b[1;33m,\u001b[0m \u001b[1;36m2\u001b[0m\u001b[1;33m)\u001b[0m\u001b[1;33m\u001b[0m\u001b[1;33m\u001b[0m\u001b[0m\n",
      "\u001b[1;31mTypeError\u001b[0m: compile() missing required argument 'mode' (pos 3)"
     ]
    }
   ],
   "source": [
    "function = compile(tree, pset)   \n",
    "                             #La fonction prend troie arguments : \n",
    "                                   # l'expression à compiler\n",
    "                                   # l'ensemble de primitives associé. \n",
    "                                   # le mode choisi  \n",
    "function(1, 2)"
   ]
  },
  {
   "cell_type": "code",
   "execution_count": null,
   "id": "bd8992f5",
   "metadata": {},
   "outputs": [],
   "source": []
  },
  {
   "cell_type": "code",
   "execution_count": null,
   "id": "20bd5049",
   "metadata": {},
   "outputs": [],
   "source": []
  },
  {
   "cell_type": "code",
   "execution_count": null,
   "id": "5996ce69",
   "metadata": {},
   "outputs": [],
   "source": []
  },
  {
   "cell_type": "code",
   "execution_count": null,
   "id": "742409c6",
   "metadata": {},
   "outputs": [],
   "source": []
  }
 ],
 "metadata": {
  "kernelspec": {
   "display_name": "Python 3 (ipykernel)",
   "language": "python",
   "name": "python3"
  },
  "language_info": {
   "codemirror_mode": {
    "name": "ipython",
    "version": 3
   },
   "file_extension": ".py",
   "mimetype": "text/x-python",
   "name": "python",
   "nbconvert_exporter": "python",
   "pygments_lexer": "ipython3",
   "version": "3.8.5"
  }
 },
 "nbformat": 4,
 "nbformat_minor": 5
}
