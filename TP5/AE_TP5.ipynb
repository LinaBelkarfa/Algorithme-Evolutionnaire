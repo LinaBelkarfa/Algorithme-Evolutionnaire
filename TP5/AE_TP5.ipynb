{
 "cells": [
  {
   "cell_type": "markdown",
   "metadata": {},
   "source": [
    "# Algorithmes Évolutionnaires — Travaux dirigés N°5 : régression symbolique\n",
    "\n",
    "## Résumé\n",
    "Dans cette séance, nous appliquerons la programmation génétique à un problème de régression symbolique. Pour ce faire, nous utiliserons le framework DEAP.\n",
    "### Introduction\n",
    "Dans la régression, on cherche à ajuster les paramètres d’un modèle (linéaire, logistique, ou autre) pour approcher une variable à partir d’autres qui lui sont corrélées. Pourtant, la forme générale du modèle est donnée ou, dit autrement, le modèle est une hypothèse. La régression symbolique, par contre, consiste à chercher un modèle (c-à-d une fonction) qui approche la variable cible à partir des autres, sans faire d’hypothèses sur sa forme. La programmation génétique semble donc un outil parfaitement adapté pour ce genre d’exercice.\n",
    "Nous allons utiliser le framework DEAP pour développer une approche de la régression symbolique basée sur la programmation génétique. Nous supposerons que le jeu de données du problème à résoudre soit donné dans un fichier en format TSV (de l’anlais tab-separated values), dont la première ligne contient les noms des variables et les lignes suivantes contiennent les observations dont ont dispose. La variable à approcher à partir des autres est, par convention, la dernière."
   ]
  },
  {
   "cell_type": "markdown",
   "metadata": {},
   "source": [
    "### Consignes\n",
    "1. Vous pouvez vous inspirer du tutoriel avancé de DEAP sur la programmation génétique.\n",
    "2. Choisissez un ensemble d’opérations primitives suffisant pour exprimer même les fonctions les plus complexes ; outre aux opérations arithmétiques, pensez à inclure aussi l’exponentiel, le logarithme et des fonctions trigonométriques.\n",
    "3. Faites attention aux opérations/fonctions dont le domaine de définition ne coincide pas avec R : pour éviter tout problème, redéfinissez-les pour les « protéger » des arguments hors domaine."
   ]
  },
  {
   "cell_type": "code",
   "execution_count": 1,
   "metadata": {},
   "outputs": [],
   "source": [
    "import operator\n",
    "import math\n",
    "import random\n",
    "\n",
    "import numpy\n",
    "\n",
    "from deap import algorithms\n",
    "from deap import base\n",
    "from deap import creator\n",
    "from deap import tools\n",
    "from deap import gp"
   ]
  },
  {
   "cell_type": "markdown",
   "metadata": {},
   "source": [
    "* On cré un ensemble de primitives qui seront chaque nœud de la structure arborescente. Ici, les opérations arithmétiques de base, les fonctions triangulaires et les nombres aléatoires temporaires sont inclus dans l'ensemble."
   ]
  },
  {
   "cell_type": "code",
   "execution_count": 2,
   "metadata": {},
   "outputs": [],
   "source": [
    "# Define new functions\n",
    "def safeDiv(left, right):\n",
    "    try:\n",
    "        return left / right\n",
    "    except ZeroDivisionError:\n",
    "        return 0\n",
    "\n",
    "pset = gp.PrimitiveSet(\"MAIN\", 1)\n",
    "pset.addPrimitive(operator.add, 2)\n",
    "pset.addPrimitive(operator.sub, 2)\n",
    "pset.addPrimitive(operator.mul, 2)\n",
    "pset.addPrimitive(safeDiv, 2)\n",
    "pset.addPrimitive(operator.neg, 1)\n",
    "pset.addPrimitive(math.cos, 1)\n",
    "pset.addPrimitive(math.sin, 1)\n",
    "pset.addEphemeralConstant(\"rand101\", lambda: random.randint(-1,1))\n",
    "pset.renameArguments(ARG0='x')"
   ]
  },
  {
   "cell_type": "markdown",
   "metadata": {},
   "source": [
    "Afin d'éviter l'erreur due à la division zéro, la division est nouvellement définie et ajoutée à la primitive, et les autres utilisent les fonctions du module opérateur et du module mathématique de python. Le deuxième argument de addPrimitive indique le nombre d'arguments pour la fonction primitive. addEphemeralConstant est utilisé lorsque la fin d'un nœud utilise une valeur générée à partir d'une fonction telle qu'un nombre aléatoire au lieu d'une constante. Ici vous pouvez voir que nous définissons un nombre aléatoire qui générera l'un de -1,0,1. Je ne pense pas que ce sera beaucoup choisi dans ce numéro, mais ... Le deuxième argument du PrimitiveSet indique le nombre d'entrées de programme. Cette fois, il n'y en a qu'un, il est nommé \"ARG0\" par défaut, mais je l'ai renommé en \"x\" dans renameArguments.\n",
    "\n",
    "Ensuite, comme dans l'exemple GA précédent, utilisez ** creator ** pour définir le problème de minimisation et le type individuel."
   ]
  },
  {
   "cell_type": "code",
   "execution_count": 3,
   "metadata": {},
   "outputs": [],
   "source": [
    "creator.create(\"FitnessMin\", base.Fitness, weights=(-1.0,))\n",
    "creator.create(\"Individual\", gp.PrimitiveTree, fitness=creator.FitnessMin)"
   ]
  },
  {
   "cell_type": "markdown",
   "metadata": {},
   "source": [
    "Ensuite, en utilisant **toolbox**, nous créerons des méthodes de génération d'individus et de population, des fonctions d'évaluation, des intersections, des mutations, des méthodes de sélection, etc. gp.genHalfAndHalf est une fonction qui crée des arbres, mais min_ et max_ spécifient les profondeurs minimale et maximale de l'arbre, et genGrow (génération d'arbres où la profondeur de chaque nœud feuille peut être différente) Il est conçu pour faire genFull (génération d'arbres avec la même profondeur de chaque nœud de feuille) en deux. gp.compile crée une fonction qui peut réellement être exécutée à partir d'un individu. À la fin, la mutation est spécifiée en ajoutant un nouveau sous-arbre au nœud."
   ]
  },
  {
   "cell_type": "code",
   "execution_count": 4,
   "metadata": {},
   "outputs": [],
   "source": [
    "toolbox = base.Toolbox()\n",
    "toolbox.register(\"expr\", gp.genHalfAndHalf, pset=pset, min_=1, max_=2)\n",
    "toolbox.register(\"individual\", tools.initIterate, creator.Individual, toolbox.expr)\n",
    "toolbox.register(\"population\", tools.initRepeat, list, toolbox.individual)\n",
    "toolbox.register(\"compile\", gp.compile, pset=pset)\n",
    "\n",
    "def evalSymbReg(individual, points):\n",
    "    #Conversion de la représentation arborescente en fonction\n",
    "    func = toolbox.compile(expr=individual)\n",
    "    #Calcul de l'erreur quadratique moyenne entre la formule estimée et la formule vraie\n",
    "    sqerrors = ((func(x) - x**4 - x**3 - x**2 - x)**2 for x in points)\n",
    "    return math.fsum(sqerrors) / len(points),\n",
    "\n",
    "toolbox.register(\"evaluate\", evalSymbReg, points=[x/10. for x in range(-10,10)])\n",
    "toolbox.register(\"select\", tools.selTournament, tournsize=3)\n",
    "toolbox.register(\"mate\", gp.cxOnePoint)\n",
    "toolbox.register(\"expr_mut\", gp.genFull, min_=0, max_=2)\n",
    "toolbox.register(\"mutate\", gp.mutUniform, expr=toolbox.expr_mut, pset=pset)"
   ]
  },
  {
   "cell_type": "markdown",
   "metadata": {},
   "source": [
    "Ensuite, créez la fonction principale et exécutez-la. Tout d'abord, définissez les informations statistiques que vous souhaitez calculer afin d'obtenir les informations statistiques, puis générez la population initiale et effectuez le calcul d'évolution avec eaSimple. Lorsqu'elles sont exécutées, les informations statistiques pour chaque génération seront sorties comme indiqué ci-dessous."
   ]
  },
  {
   "cell_type": "code",
   "execution_count": 5,
   "metadata": {},
   "outputs": [
    {
     "name": "stdout",
     "output_type": "stream",
     "text": [
      "   \t      \t                        fitness                        \t                      size                     \n",
      "   \t      \t-------------------------------------------------------\t-----------------------------------------------\n",
      "gen\tnevals\tavg    \tgen\tmax  \tmin     \tnevals\tstd    \tavg    \tgen\tmax\tmin\tnevals\tstd    \n",
      "0  \t300   \t1.77307\t0  \t30.24\t0.450825\t300   \t2.67131\t3.54667\t0  \t7  \t2  \t300   \t1.49482\n",
      "1  \t164   \t1.35902\t1  \t44.3937\t0.183711\t164   \t2.86698\t3.71   \t1  \t12 \t1  \t164   \t1.92161\n",
      "2  \t161   \t2.09848\t2  \t315.686\t0.165572\t161   \t18.1875\t3.69   \t2  \t16 \t1  \t161   \t1.81123\n",
      "3  \t171   \t15.5821\t3  \t4344.03\t0.165572\t171   \t250.337\t3.74   \t3  \t15 \t1  \t171   \t1.8145 \n",
      "4  \t151   \t0.853335\t4  \t14.538 \t0.165572\t151   \t1.16069\t3.92667\t4  \t17 \t1  \t151   \t2.07235\n",
      "5  \t157   \t0.818335\t5  \t19.1352\t0.165572\t157   \t1.18963\t4.08   \t5  \t17 \t1  \t157   \t2.08173\n",
      "6  \t172   \t0.822971\t6  \t18.9239\t0.165572\t172   \t1.20164\t4.42333\t6  \t17 \t1  \t172   \t2.40641\n",
      "7  \t158   \t0.754532\t7  \t17.8009\t0.165572\t158   \t1.40824\t5.06667\t7  \t21 \t1  \t158   \t2.90325\n",
      "8  \t183   \t0.647587\t8  \t16.5316\t0.0977039\t183   \t1.36617\t5.71667\t8  \t23 \t1  \t183   \t3.04353\n",
      "9  \t152   \t3.3085  \t9  \t764.757\t0.0977039\t152   \t44.0821\t6.36667\t9  \t20 \t1  \t152   \t3.10358\n",
      "10 \t164   \t0.507702\t10 \t15.5423\t0.0977039\t164   \t1.01952\t6.40667\t10 \t20 \t1  \t164   \t2.99799\n",
      "11 \t156   \t1.11915 \t11 \t201.758\t0.0977039\t156   \t11.6377\t6.28667\t11 \t20 \t1  \t156   \t2.75521\n",
      "12 \t161   \t0.40784 \t12 \t15.1366\t0.121922 \t161   \t0.938213\t7.19   \t12 \t19 \t1  \t161   \t3.58709\n",
      "13 \t164   \t0.322806\t13 \t3.45608\t0.101561 \t164   \t0.396984\t8.12667\t13 \t21 \t1  \t164   \t3.86315\n",
      "14 \t156   \t0.374152\t14 \t14.7258\t0.101561 \t156   \t0.919319\t9.83667\t14 \t27 \t1  \t156   \t4.63357\n",
      "15 \t170   \t0.31616 \t15 \t3.67951\t0.101561 \t170   \t0.42798 \t11.61  \t15 \t27 \t1  \t170   \t4.97104\n",
      "16 \t189   \t0.273963\t16 \t2.54124\t0.0253803\t189   \t0.329753\t12.64  \t16 \t33 \t1  \t189   \t5.9164 \n",
      "17 \t175   \t0.3195  \t17 \t4.83791\t0.0253803\t175   \t0.492321\t13.6733\t17 \t41 \t3  \t175   \t6.20483\n",
      "18 \t181   \t0.27242 \t18 \t2.3621 \t0.0253803\t181   \t0.367519\t15.43  \t18 \t45 \t3  \t181   \t7.55591\n",
      "19 \t140   \t0.21731 \t19 \t3.68004\t0.0253803\t140   \t0.340659\t16.63  \t19 \t40 \t1  \t140   \t7.73605\n",
      "20 \t161   \t0.320622\t20 \t16.4823\t4.23705e-33\t161   \t1.04306 \t16.6667\t20 \t43 \t3  \t161   \t7.52699\n",
      "21 \t160   \t0.225185\t21 \t2.35016\t4.23705e-33\t160   \t0.353512\t17.2167\t21 \t43 \t1  \t160   \t8.47091\n",
      "22 \t160   \t0.271601\t22 \t4.15647\t4.23705e-33\t160   \t0.561064\t17.17  \t22 \t52 \t1  \t160   \t8.3957 \n",
      "23 \t179   \t0.24023 \t23 \t4.51807\t4.23705e-33\t179   \t0.483578\t18.0633\t23 \t58 \t1  \t179   \t9.43606\n",
      "24 \t184   \t0.268925\t24 \t5.61756\t4.23705e-33\t184   \t0.575602\t17.7633\t24 \t58 \t3  \t184   \t9.95024\n",
      "25 \t169   \t0.212104\t25 \t3.25136\t5.3926e-33 \t169   \t0.401747\t18.1933\t25 \t62 \t2  \t169   \t11.2346\n",
      "26 \t175   \t0.256172\t26 \t4.4082 \t5.3926e-33 \t175   \t0.579252\t18.5233\t26 \t56 \t3  \t175   \t11.2079\n",
      "27 \t169   \t0.243932\t27 \t6.96128\t5.3926e-33 \t169   \t0.713151\t18.6733\t27 \t61 \t3  \t169   \t11.5042\n",
      "28 \t170   \t0.232042\t28 \t3.51981\t5.3926e-33 \t170   \t0.505553\t17.6467\t28 \t56 \t3  \t170   \t10.2467\n",
      "29 \t180   \t0.259856\t29 \t12.3038\t5.3926e-33 \t180   \t0.853597\t17.9333\t29 \t49 \t1  \t180   \t10.0788\n",
      "30 \t159   \t0.253236\t30 \t4.09456\t5.3926e-33 \t159   \t0.686173\t16.53  \t30 \t49 \t3  \t159   \t7.9914 \n",
      "31 \t164   \t0.275658\t31 \t5.70694\t5.3926e-33 \t164   \t0.672956\t15.2633\t31 \t51 \t5  \t164   \t6.45967\n",
      "32 \t176   \t0.330307\t32 \t4.02217\t5.3926e-33 \t176   \t0.677851\t14.8467\t32 \t47 \t1  \t176   \t5.0527 \n",
      "33 \t167   \t0.421454\t33 \t22.2188\t5.3926e-33 \t167   \t1.47697 \t15.2367\t33 \t27 \t1  \t167   \t3.8988 \n",
      "34 \t180   \t0.321359\t34 \t4.97474\t5.3926e-33 \t180   \t0.74324 \t15.6167\t34 \t27 \t3  \t180   \t3.69816\n",
      "35 \t160   \t0.340365\t35 \t12.3038\t5.3926e-33 \t160   \t1.0043  \t15.9533\t35 \t27 \t7  \t160   \t3.4954 \n",
      "36 \t185   \t0.420431\t36 \t7.42225\t5.3926e-33 \t185   \t1.04552 \t15.7467\t36 \t29 \t6  \t185   \t3.66913\n",
      "37 \t165   \t0.36148 \t37 \t4.76458\t5.3926e-33 \t165   \t0.757757\t16.0567\t37 \t30 \t1  \t165   \t3.65515\n",
      "38 \t172   \t0.303053\t38 \t3.16283\t5.3926e-33 \t172   \t0.650993\t15.98  \t38 \t27 \t1  \t172   \t3.50327\n",
      "39 \t155   \t0.336679\t39 \t5.95857\t5.3926e-33 \t155   \t0.74615 \t16.13  \t39 \t25 \t1  \t155   \t3.38523\n",
      "40 \t161   \t0.341897\t40 \t5.95857\t5.3926e-33 \t161   \t0.767101\t15.94  \t40 \t25 \t1  \t161   \t3.3719 \n"
     ]
    }
   ],
   "source": [
    "def main():\n",
    "    random.seed(318)\n",
    "\n",
    "    pop = toolbox.population(n=300)\n",
    "    hof = tools.HallOfFame(1)\n",
    "    \n",
    "    stats_fit = tools.Statistics(lambda ind: ind.fitness.values)\n",
    "    stats_size = tools.Statistics(len)\n",
    "    mstats = tools.MultiStatistics(fitness=stats_fit, size=stats_size)\n",
    "    mstats.register(\"avg\", numpy.mean)\n",
    "    mstats.register(\"std\", numpy.std)\n",
    "    mstats.register(\"min\", numpy.min)\n",
    "    mstats.register(\"max\", numpy.max)\n",
    "\n",
    "    pop, log = algorithms.eaSimple(pop, toolbox, 0.5, 0.1, 40, stats=mstats,\n",
    "                                   halloffame=hof, verbose=True)\n",
    "    #Afficher le journal\n",
    "    return pop, log, hof\n",
    "if __name__ == \"__main__\":\n",
    "    main()"
   ]
  },
  {
   "cell_type": "code",
   "execution_count": 10,
   "metadata": {},
   "outputs": [],
   "source": [
    "# Dans ANACONDA PROMPT : conda install graphviz pygraphviz -c alubbock"
   ]
  },
  {
   "cell_type": "code",
   "execution_count": 17,
   "metadata": {},
   "outputs": [
    {
     "data": {
      "image/png": "[encoded data removed]",
      "text/plain": [
       "<Figure size 432x288 with 1 Axes>"
      ]
     },
     "metadata": {},
     "output_type": "display_data"
    }
   ],
   "source": [
    "expr = toolbox.individual()\n",
    "nodes, edges, labels = gp.graph(expr)\n",
    "import matplotlib.pyplot as plt\n",
    "import networkx as nx\n",
    "\n",
    "g = nx.Graph()\n",
    "g.add_nodes_from(nodes)\n",
    "g.add_edges_from(edges)\n",
    "pos = nx.nx_agraph.graphviz_layout(g, prog=\"dot\")\n",
    "\n",
    "nx.draw_networkx_nodes(g, pos)\n",
    "nx.draw_networkx_edges(g, pos)\n",
    "nx.draw_networkx_labels(g, pos, labels)\n",
    "plt.show()"
   ]
  },
  {
   "cell_type": "code",
   "execution_count": null,
   "metadata": {},
   "outputs": [],
   "source": []
  },
  {
   "cell_type": "code",
   "execution_count": null,
   "metadata": {},
   "outputs": [],
   "source": []
  },
  {
   "cell_type": "markdown",
   "metadata": {},
   "source": []
  }
 ],
 "metadata": {
  "interpreter": {
   "hash": "636cdaddf8278713ac0f8899dff8f68cf32cd8ae3d3514f61665594349bacd03"
  },
  "kernelspec": {
   "display_name": "Python 3.8.5 64-bit ('base': conda)",
   "language": "python",
   "name": "python3"
  },
  "language_info": {
   "codemirror_mode": {
    "name": "ipython",
    "version": 3
   },
   "file_extension": ".py",
   "mimetype": "text/x-python",
   "name": "python",
   "nbconvert_exporter": "python",
   "pygments_lexer": "ipython3",
   "version": "3.8.5"
  },
  "orig_nbformat": 4
 },
 "nbformat": 4,
 "nbformat_minor": 2
}
